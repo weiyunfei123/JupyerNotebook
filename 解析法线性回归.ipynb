{
 "cells": [
  {
   "cell_type": "markdown",
   "id": "24a7f302",
   "metadata": {},
   "source": [
    "# 一元线性回归"
   ]
  },
  {
   "cell_type": "code",
   "execution_count": 1,
   "id": "2bab132b",
   "metadata": {},
   "outputs": [],
   "source": [
    "import tensorflow as tf\n",
    "import numpy as np\n",
    "import matplotlib.pyplot as plt\n",
    "\n",
    "plt.rcParams[\"font.sans-serif\"]=[\"SimHei\"]"
   ]
  },
  {
   "cell_type": "code",
   "execution_count": 2,
   "id": "c5806d1f",
   "metadata": {},
   "outputs": [],
   "source": [
    "x=tf.constant([137.97,104.50,100.00,124.32,79.20,99.00,124.00,114.00,106.69,138.05,53.75,46.91,68.00,63.02,81.26,86.21])\n",
    "y=tf.constant([145.00,110.00,93.00,116.00,65.32,104.00,118.00,91.00,62.00,133.00,51.00,45.00,78.50,69.65,75.69,95.30])"
   ]
  },
  {
   "cell_type": "code",
   "execution_count": 3,
   "id": "b2187fe1",
   "metadata": {},
   "outputs": [],
   "source": [
    "meanX=tf.reduce_mean(x)\n",
    "meanY=tf.reduce_mean(y)\n",
    "sumXY=tf.reduce_sum((x-meanX)*(y-meanY))\n",
    "sumX=tf.reduce_sum((x-meanX)*(x-meanX))\n",
    "w=sumXY/sumX\n",
    "b=meanY-w*meanX"
   ]
  },
  {
   "cell_type": "code",
   "execution_count": 4,
   "id": "5bb7572d",
   "metadata": {},
   "outputs": [
    {
     "name": "stdout",
     "output_type": "stream",
     "text": [
      "权值w= 0.8945604 \n",
      "偏置值b= 5.4108505\n",
      "线性模型：y= 0.8945604 *x+ 5.4108505\n"
     ]
    }
   ],
   "source": [
    "print(\"权值w=\",w.numpy(),\"\\n偏置值b=\",b.numpy())\n",
    "print(\"线性模型：y=\",w.numpy(),\"*x+\",b.numpy())"
   ]
  },
  {
   "cell_type": "code",
   "execution_count": 5,
   "id": "1c48610a",
   "metadata": {},
   "outputs": [
    {
     "name": "stdout",
     "output_type": "stream",
     "text": [
      "面积\t估计房价\n",
      "128.15 \t 120.049\n",
      "45.0 \t 45.666\n",
      "141.43 \t 131.929\n",
      "106.27 \t 100.476\n",
      "99.0 \t 93.972\n",
      "53.84 \t 53.574\n",
      "85.36 \t 81.771\n",
      "70.0 \t 68.03\n"
     ]
    }
   ],
   "source": [
    "x_test=np.array([128.15,45.00,141.43,106.27,99.00,53.84,85.36,70.00])\n",
    "y_pred=(w*x_test+b).numpy()\n",
    "\n",
    "print(\"面积\\t估计房价\")\n",
    "n=len(x_test)\n",
    "for i in range(n):\n",
    "    print(x_test[i],\"\\t\",round(y_pred[i],3))"
   ]
  },
  {
   "cell_type": "code",
   "execution_count": 6,
   "id": "965d62aa",
   "metadata": {},
   "outputs": [
    {
     "data": {
      "image/png": "[encoded data removed]",
      "text/plain": [
       "<Figure size 360x360 with 1 Axes>"
      ]
     },
     "metadata": {
      "needs_background": "light"
     },
     "output_type": "display_data"
    }
   ],
   "source": [
    "plt.figure(figsize=(5,5))\n",
    "\n",
    "plt.scatter(x,y,color=\"red\",label=\"销售记录\")\n",
    "plt.scatter(x_test,y_pred,color=\"blue\",label=\"预测房价\")\n",
    "plt.plot(x_test,y_pred,color=\"green\",label=\"拟合直线\")\n",
    "\n",
    "plt.xlabel(\"面积：（平方米）\")\n",
    "plt.ylabel(\"价格：（万元）\")\n",
    "\n",
    "#plt.xlim(40,150)#x坐标范围\n",
    "#plt.ylim(40,150)\n",
    "\n",
    "plt.suptitle(\"商品房销售价格评估系统1.0\",fontsize=20)\n",
    "\n",
    "plt.legend(loc=\"upper left\")#样式格式位置\n",
    "plt.show()"
   ]
  },
  {
   "cell_type": "markdown",
   "id": "c8b70d74",
   "metadata": {},
   "source": [
    "# 多元线性回归"
   ]
  },
  {
   "cell_type": "code",
   "execution_count": 7,
   "id": "a7e4cd0d",
   "metadata": {},
   "outputs": [
    {
     "data": {
      "text/plain": [
       "((16,), (16,), (16,))"
      ]
     },
     "execution_count": 7,
     "metadata": {},
     "output_type": "execute_result"
    }
   ],
   "source": [
    "x1=np.array([137.97,104.50,100.00,124.32,79.20,99.00,124.00,114.00,106.69,138.05,53.75,46.91,68.00,63.02,81.26,86.21])\n",
    "x2=np.array([3,2,2,3,1,2,3,2,2,3,1,1,1,1,2,2])\n",
    "y=np.array([145.00,110.00,93.00,116.00,65.32,104.00,118.00,91.00,62.00,133.00,51.00,45.00,78.50,69.65,75.69,95.30])\n",
    "x1.shape,x2.shape,y.shape"
   ]
  },
  {
   "cell_type": "code",
   "execution_count": 8,
   "id": "a5bdcbec",
   "metadata": {},
   "outputs": [
    {
     "data": {
      "text/plain": [
       "array([[  1.  , 137.97,   3.  ],\n",
       "       [  1.  , 104.5 ,   2.  ],\n",
       "       [  1.  , 100.  ,   2.  ],\n",
       "       [  1.  , 124.32,   3.  ],\n",
       "       [  1.  ,  79.2 ,   1.  ],\n",
       "       [  1.  ,  99.  ,   2.  ],\n",
       "       [  1.  , 124.  ,   3.  ],\n",
       "       [  1.  , 114.  ,   2.  ],\n",
       "       [  1.  , 106.69,   2.  ],\n",
       "       [  1.  , 138.05,   3.  ],\n",
       "       [  1.  ,  53.75,   1.  ],\n",
       "       [  1.  ,  46.91,   1.  ],\n",
       "       [  1.  ,  68.  ,   1.  ],\n",
       "       [  1.  ,  63.02,   1.  ],\n",
       "       [  1.  ,  81.26,   2.  ],\n",
       "       [  1.  ,  86.21,   2.  ]])"
      ]
     },
     "execution_count": 8,
     "metadata": {},
     "output_type": "execute_result"
    }
   ],
   "source": [
    "#堆叠np.stack()\n",
    "x0=np.ones(len(x1))\n",
    "X=np.stack((x0,x1,x2),axis=1)\n",
    "X"
   ]
  },
  {
   "cell_type": "code",
   "execution_count": 9,
   "id": "0d308b5c",
   "metadata": {},
   "outputs": [
    {
     "data": {
      "text/plain": [
       "array([[145.  ],\n",
       "       [110.  ],\n",
       "       [ 93.  ],\n",
       "       [116.  ],\n",
       "       [ 65.32],\n",
       "       [104.  ],\n",
       "       [118.  ],\n",
       "       [ 91.  ],\n",
       "       [ 62.  ],\n",
       "       [133.  ],\n",
       "       [ 51.  ],\n",
       "       [ 45.  ],\n",
       "       [ 78.5 ],\n",
       "       [ 69.65],\n",
       "       [ 75.69],\n",
       "       [ 95.3 ]])"
      ]
     },
     "execution_count": 9,
     "metadata": {},
     "output_type": "execute_result"
    }
   ],
   "source": [
    "Y=np.array(y).reshape(-1,1)\n",
    "Y"
   ]
  },
  {
   "cell_type": "code",
   "execution_count": 10,
   "id": "b005c3bd",
   "metadata": {},
   "outputs": [
    {
     "data": {
      "text/plain": [
       "array([[11.96729093],\n",
       "       [ 0.53488599],\n",
       "       [14.33150378]])"
      ]
     },
     "execution_count": 10,
     "metadata": {},
     "output_type": "execute_result"
    }
   ],
   "source": [
    "#矩阵转置np.transpose()   .T\n",
    "#矩阵求逆np.linalg.inv()  .mat().I\n",
    "#求矩阵相乘np.matmul()    @\n",
    "\n",
    "W=(np.linalg.inv(X.T@X))@X.T@Y\n",
    "W"
   ]
  },
  {
   "cell_type": "code",
   "execution_count": 11,
   "id": "89939872",
   "metadata": {},
   "outputs": [
    {
     "data": {
      "text/plain": [
       "array([11.96729093,  0.53488599, 14.33150378])"
      ]
     },
     "execution_count": 11,
     "metadata": {},
     "output_type": "execute_result"
    }
   ],
   "source": [
    "W=W.reshape(-1)\n",
    "W"
   ]
  },
  {
   "cell_type": "code",
   "execution_count": 12,
   "id": "209e6b54",
   "metadata": {},
   "outputs": [
    {
     "name": "stdout",
     "output_type": "stream",
     "text": [
      "多元线性回归\n",
      "Y= 0.5348859949724512 *x1+ 14.331503777673632 *x2+ 11.967290930536517\n"
     ]
    }
   ],
   "source": [
    "print(\"多元线性回归\")\n",
    "print(\"Y=\",W[1],\"*x1+\",W[2],\"*x2+\",W[0])"
   ]
  },
  {
   "cell_type": "code",
   "execution_count": 13,
   "id": "b8ebcef5",
   "metadata": {},
   "outputs": [
    {
     "name": "stdout",
     "output_type": "stream",
     "text": [
      "由房间面积、房间数->预估房价\n",
      "请输入房间面积和房间数\n",
      "商品房面积：1\n",
      "房间数：1\n",
      "预测价格： 26.83 万元\n"
     ]
    }
   ],
   "source": [
    "print(\"由房间面积、房间数->预估房价\")\n",
    "print(\"请输入房间面积和房间数\")\n",
    "x1_test=eval(input(\"商品房面积：\"))\n",
    "x2_test=eval(input(\"房间数：\"))\n",
    "\n",
    "\n",
    "y_pred=W[1]*x1_test+W[2]*x2_test+W[0]\n",
    "print(\"预测价格：\",round(y_pred,2),\"万元\")"
   ]
  },
  {
   "cell_type": "markdown",
   "id": "6a6071c7",
   "metadata": {},
   "source": [
    "# 三维数据可视化"
   ]
  },
  {
   "cell_type": "code",
   "execution_count": 14,
   "id": "0cb621cd",
   "metadata": {},
   "outputs": [
    {
     "name": "stderr",
     "output_type": "stream",
     "text": [
      "D:\\anaconda3\\envs\\tensorflow2-4\\lib\\site-packages\\ipykernel_launcher.py:4: MatplotlibDeprecationWarning: Axes3D(fig) adding itself to the figure is deprecated since 3.4. Pass the keyword argument auto_add_to_figure=False and use fig.add_axes(ax) to suppress this warning. The default value of auto_add_to_figure will change to False in mpl3.5 and True values will no longer work in 3.6.  This is consistent with other Axes classes.\n",
      "  after removing the cwd from sys.path.\n"
     ]
    },
    {
     "data": {
      "image/png": "[encoded data removed]",
      "text/plain": [
       "<Figure size 432x288 with 1 Axes>"
      ]
     },
     "metadata": {
      "needs_background": "light"
     },
     "output_type": "display_data"
    }
   ],
   "source": [
    "from mpl_toolkits.mplot3d import Axes3D\n",
    "\n",
    "fig=plt.figure()\n",
    "ax3d=Axes3D(fig)\n",
    "plt.show()"
   ]
  },
  {
   "cell_type": "code",
   "execution_count": 15,
   "id": "a9683017",
   "metadata": {},
   "outputs": [
    {
     "name": "stderr",
     "output_type": "stream",
     "text": [
      "D:\\anaconda3\\envs\\tensorflow2-4\\lib\\site-packages\\ipykernel_launcher.py:7: MatplotlibDeprecationWarning: Axes3D(fig) adding itself to the figure is deprecated since 3.4. Pass the keyword argument auto_add_to_figure=False and use fig.add_axes(ax) to suppress this warning. The default value of auto_add_to_figure will change to False in mpl3.5 and True values will no longer work in 3.6.  This is consistent with other Axes classes.\n",
      "  import sys\n"
     ]
    },
    {
     "data": {
      "image/png": "[encoded data removed]",
      "text/plain": [
       "<Figure size 432x288 with 1 Axes>"
      ]
     },
     "metadata": {
      "needs_background": "light"
     },
     "output_type": "display_data"
    }
   ],
   "source": [
    "#随机点\n",
    "x=np.random.uniform(10,40,30)\n",
    "y=np.random.uniform(100,200,30)\n",
    "z=np.random.uniform(10,20,30)\n",
    "\n",
    "fig=plt.figure()\n",
    "ax3d=Axes3D(fig)\n",
    "\n",
    "ax3d.scatter(x,y,z,color=\"b\",marker=\"*\")\n",
    "plt.show()"
   ]
  },
  {
   "cell_type": "code",
   "execution_count": null,
   "id": "187d3fef",
   "metadata": {},
   "outputs": [
    {
     "name": "stderr",
     "output_type": "stream",
     "text": [
      "D:\\anaconda3\\envs\\tensorflow2-4\\lib\\site-packages\\ipykernel_launcher.py:7: MatplotlibDeprecationWarning: Axes3D(fig) adding itself to the figure is deprecated since 3.4. Pass the keyword argument auto_add_to_figure=False and use fig.add_axes(ax) to suppress this warning. The default value of auto_add_to_figure will change to False in mpl3.5 and True values will no longer work in 3.6.  This is consistent with other Axes classes.\n",
      "  import sys\n"
     ]
    }
   ],
   "source": [
    "#z=2x+y\n",
    "x=np.random.uniform(10,40,300000)\n",
    "y=np.random.uniform(100,200,300000)\n",
    "z=2*x+y\n",
    "\n",
    "fig=plt.figure()\n",
    "ax3d=Axes3D(fig)\n",
    "\n",
    "ax3d.scatter(x,y,z,color=\"b\",marker=\"*\")\n",
    "\n",
    "ax3d.set_xlabel(\"X\")\n",
    "ax3d.set_ylabel(\"Y\")\n",
    "ax3d.set_zlabel(\"Z=2X+Y\")\n",
    "\n",
    "plt.show()"
   ]
  },
  {
   "cell_type": "code",
   "execution_count": null,
   "id": "04d46fec",
   "metadata": {},
   "outputs": [],
   "source": [
    "#生成网格点坐标矩阵\n",
    "#np.meshgrid()\n",
    "x=[1,2,3,4]\n",
    "y=[4,5,6]\n",
    "X,Y=np.meshgrid(x,y)\n",
    "X,Y"
   ]
  },
  {
   "cell_type": "code",
   "execution_count": null,
   "id": "bae6315f",
   "metadata": {},
   "outputs": [],
   "source": [
    "#np中看形状直接.shape  ps:无括号\n",
    "x=np.arange(1,5)\n",
    "y=np.arange(1,5)\n",
    "X,Y=np.meshgrid(x,y)\n",
    "X.shape,Y.shape"
   ]
  },
  {
   "cell_type": "code",
   "execution_count": null,
   "id": "503009bf",
   "metadata": {},
   "outputs": [],
   "source": [
    "Z=2*X+Y\n",
    "Z.shape"
   ]
  },
  {
   "cell_type": "code",
   "execution_count": null,
   "id": "dfdfb1e7",
   "metadata": {},
   "outputs": [],
   "source": [
    "#绘制平面曲面图\n",
    "#plot_surface()\n",
    "fig=plt.figure()\n",
    "ax3d=Axes3D(fig)\n",
    "\n",
    "ax3d.plot_surface(X,Y,Z,cmap=\"rainbow\")\n",
    "\n",
    "ax3d.set_xlabel(\"X\")\n",
    "ax3d.set_ylabel(\"Y\")\n",
    "ax3d.set_zlabel(\"Z=2X+Y\")\n",
    "\n",
    "plt.show()"
   ]
  },
  {
   "cell_type": "code",
   "execution_count": null,
   "id": "59999562",
   "metadata": {},
   "outputs": [],
   "source": [
    "x=np.arange(0,100)\n",
    "y=np.arange(0,100)\n",
    "X,Y=np.meshgrid(x,y)\n",
    "Z=2*X+Y\n",
    "\n",
    "fig=plt.figure()\n",
    "ax3d=Axes3D(fig)\n",
    "\n",
    "ax3d.plot_surface(X,Y,Z,cmap=\"rainbow\")\n",
    "\n",
    "ax3d.set_xlabel(\"X\")\n",
    "ax3d.set_ylabel(\"Y\")\n",
    "ax3d.set_zlabel(\"Z=2X+Y\")\n",
    "\n",
    "plt.show()"
   ]
  },
  {
   "cell_type": "code",
   "execution_count": null,
   "id": "4aaab1ae",
   "metadata": {},
   "outputs": [],
   "source": [
    "#绘制框线图\n",
    "#plot_wireframe()\n",
    "x=np.arange(0,10,0.5)\n",
    "y=np.arange(0,10,0.5)\n",
    "X,Y=np.meshgrid(x,y)\n",
    "Z=2*X+Y\n",
    "\n",
    "fig=plt.figure()\n",
    "ax3d=Axes3D(fig)\n",
    "\n",
    "ax3d.plot_wireframe(X,Y,Z,color=\"m\",linewidth=0.5)\n",
    "\n",
    "ax3d.set_xlabel(\"X\")\n",
    "ax3d.set_ylabel(\"Y\")\n",
    "ax3d.set_zlabel(\"Z=2X+Y\")\n",
    "\n",
    "plt.show()"
   ]
  },
  {
   "cell_type": "markdown",
   "id": "8223409f",
   "metadata": {},
   "source": [
    "应用"
   ]
  },
  {
   "cell_type": "code",
   "execution_count": null,
   "id": "e22e5d19",
   "metadata": {},
   "outputs": [],
   "source": [
    "x=np.arange(-5,5,0.1)\n",
    "y=np.arange(-5,5,0.1)\n",
    "X,Y=np.meshgrid(x,y)\n",
    "Z=np.sin(np.sqrt(X**2+Y**2))\n",
    "\n",
    "fig=plt.figure()\n",
    "ax3d=Axes3D(fig)\n",
    "\n",
    "ax3d.plot_surface(X,Y,Z,cmap=\"rainbow\")\n",
    "\n",
    "ax3d.set_xlabel(\"X\")\n",
    "ax3d.set_ylabel(\"Y\")\n",
    "ax3d.set_zlabel(\"Z\")\n",
    "\n",
    "plt.show()"
   ]
  },
  {
   "cell_type": "code",
   "execution_count": null,
   "id": "5df24529",
   "metadata": {},
   "outputs": [],
   "source": [
    "fig=plt.figure()\n",
    "ax3d=Axes3D(fig)\n",
    "\n",
    "ax3d.plot_wireframe(X,Y,Z,color=\"m\",linewidth=0.5)\n",
    "\n",
    "ax3d.set_xlabel(\"X\")\n",
    "ax3d.set_ylabel(\"Y\")\n",
    "ax3d.set_zlabel(\"Z\")\n",
    "\n",
    "plt.show()"
   ]
  },
  {
   "cell_type": "markdown",
   "id": "7b6d0011",
   "metadata": {},
   "source": [
    "# 线性回归模型可视化\n"
   ]
  },
  {
   "cell_type": "code",
   "execution_count": null,
   "id": "8869e69d",
   "metadata": {},
   "outputs": [],
   "source": [
    "#加载数据\n",
    "x1=np.array([137.97,104.50,100.00,124.32,79.20,99.00,124.00,114.00,106.69,138.05,53.75,46.91,68.00,63.02,81.26,86.21])\n",
    "x2=np.array([3,2,2,3,1,2,3,2,2,3,1,1,1,1,2,2])\n",
    "y=np.array([145.00,110.00,93.00,116.00,65.32,104.00,118.00,91.00,62.00,133.00,51.00,45.00,78.50,69.65,75.69,95.30])\n",
    "W=np.array([11.96729093,0.53488599,14.33150378])\n",
    "y_pred=W[1]*x1+W[2]*x2+W[0]"
   ]
  },
  {
   "cell_type": "code",
   "execution_count": null,
   "id": "72408391",
   "metadata": {},
   "outputs": [],
   "source": [
    "#绘制散点图\n",
    "fig=plt.figure()\n",
    "ax3d=Axes3D(fig)\n",
    "\n",
    "ax3d.scatter(x1,x2,y,color=\"b\",marker=\"*\")\n",
    "\n",
    "ax3d.set_xlabel(\"X\")\n",
    "ax3d.set_ylabel(\"Y\")\n",
    "ax3d.set_zlabel(\"Z\")\n",
    "ax3d.set_yticks([1,2,3])#设置Y的坐标值\n",
    "ax3d.set_zlim3d(30,160)#设置Z的坐标范围\n",
    "plt.show()"
   ]
  },
  {
   "cell_type": "code",
   "execution_count": null,
   "id": "11295390",
   "metadata": {},
   "outputs": [],
   "source": [
    "#改变视角-90\n",
    "fig=plt.figure()\n",
    "ax3d=Axes3D(fig)\n",
    "ax3d.view_init(elev=0,azim=-90)\n",
    "\n",
    "ax3d.scatter(x1,x2,y,color=\"b\",marker=\"*\")\n",
    "\n",
    "ax3d.set_xlabel(\"X\")\n",
    "ax3d.set_ylabel(\"Y\")\n",
    "ax3d.set_zlabel(\"Z\")\n",
    "ax3d.set_yticks([1,2,3])#设置Y的坐标值\n",
    "ax3d.set_zlim3d(30,160)#设置Z的坐标范围\n",
    "plt.show()"
   ]
  },
  {
   "cell_type": "code",
   "execution_count": null,
   "id": "a325a8c5",
   "metadata": {},
   "outputs": [],
   "source": [
    "#改变视角0\n",
    "fig=plt.figure()\n",
    "ax3d=Axes3D(fig)\n",
    "ax3d.view_init(elev=0,azim=0)\n",
    "\n",
    "ax3d.scatter(x1,x2,y,color=\"b\",marker=\"*\")\n",
    "\n",
    "ax3d.set_xlabel(\"X\")\n",
    "ax3d.set_ylabel(\"Y\")\n",
    "ax3d.set_zlabel(\"Z\")\n",
    "ax3d.set_yticks([1,2,3])#设置Y的坐标值\n",
    "ax3d.set_zlim3d(30,160)#设置Z的坐标范围\n",
    "plt.show()"
   ]
  },
  {
   "cell_type": "code",
   "execution_count": null,
   "id": "ab41a0c3",
   "metadata": {},
   "outputs": [],
   "source": [
    "#绘制平面图\n",
    "X1,X2=np.meshgrid(x1,x2)\n",
    "Y_PRED=W[1]*X1+W[2]*X2+W[0]\n",
    "\n",
    "fig=plt.figure()\n",
    "ax3d=Axes3D(fig)\n",
    "\n",
    "ax3d.plot_surface(X1,X2,Y_PRED,cmap=\"rainbow\")\n",
    "\n",
    "ax3d.set_xlabel(\"X\")\n",
    "ax3d.set_ylabel(\"Y\")\n",
    "ax3d.set_zlabel(\"Z\")\n",
    "ax3d.set_yticks([1,2,3])#设置Y的坐标值\n",
    "ax3d.set_zlim3d(30,160)#设置Z的坐标范围\n",
    "plt.show()"
   ]
  },
  {
   "cell_type": "code",
   "execution_count": null,
   "id": "12bbda9a",
   "metadata": {},
   "outputs": [],
   "source": [
    "#绘制散点图和线框图\n",
    "plt.rcParams[\"font.sans-serif\"]=[\"SimHei\"]\n",
    "\n",
    "fig=plt.figure()\n",
    "ax3d=Axes3D(fig)\n",
    "\n",
    "ax3d.scatter(x1,x2,y,color=\"b\",marker=\"*\",label=\"销售记录\")\n",
    "ax3d.scatter(x1,x2,y_pred,color=\"r\",label=\"预测房价\")\n",
    "ax3d.plot_wireframe(X1,X2,Y_PRED,color=\"m\",linewidth=0.5,label=\"拟合平面\")\n",
    "\n",
    "ax3d.set_xlabel(\"X\")\n",
    "ax3d.set_ylabel(\"Y\")\n",
    "ax3d.set_zlabel(\"Z\")\n",
    "ax3d.set_yticks([1,2,3])#设置Y的坐标值\n",
    "ax3d.set_zlim3d(30,160)#设置Z的坐标范围\n",
    "\n",
    "plt.title(\"商品房销售回归模型\",fontsize=20)\n",
    "plt.legend(loc=\"upper left\")\n",
    "plt.show()"
   ]
  }
 ],
 "metadata": {
  "kernelspec": {
   "display_name": "Python 3 (ipykernel)",
   "language": "python",
   "name": "python3"
  },
  "language_info": {
   "codemirror_mode": {
    "name": "ipython",
    "version": 3
   },
   "file_extension": ".py",
   "mimetype": "text/x-python",
   "name": "python",
   "nbconvert_exporter": "python",
   "pygments_lexer": "ipython3",
   "version": "3.7.13"
  }
 },
 "nbformat": 4,
 "nbformat_minor": 5
}
