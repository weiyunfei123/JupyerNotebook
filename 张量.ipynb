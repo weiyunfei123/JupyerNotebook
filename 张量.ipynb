{
 "cells": [
  {
   "cell_type": "code",
   "execution_count": 2,
   "id": "47c0fdff",
   "metadata": {},
   "outputs": [
    {
     "name": "stdout",
     "output_type": "stream",
     "text": [
      "2.4.0\n",
      "True\n"
     ]
    }
   ],
   "source": [
    "import tensorflow as tf\n",
    "import numpy as np\n",
    "\n",
    "print(tf.__version__)\n",
    "print(tf.executing_eagerly())"
   ]
  },
  {
   "cell_type": "markdown",
   "id": "eee8c804",
   "metadata": {},
   "source": [
    "# 创建张量"
   ]
  },
  {
   "cell_type": "markdown",
   "id": "f5c31bee",
   "metadata": {},
   "source": [
    "tf.constant(value,dtype=,shape)函数"
   ]
  },
  {
   "cell_type": "code",
   "execution_count": 3,
   "id": "0d7ab4c4",
   "metadata": {},
   "outputs": [
    {
     "name": "stdout",
     "output_type": "stream",
     "text": [
      "tf.Tensor(\n",
      "[[1 2]\n",
      " [3 4]], shape=(2, 2), dtype=int32)\n",
      "<class 'tensorflow.python.framework.ops.EagerTensor'>\n",
      "------------------------------------------------------------------\n"
     ]
    }
   ],
   "source": [
    "a=tf.constant([[1,2],[3,4]])#参数为python列表\n",
    "print(a)\n",
    "print(type(a))\n",
    "print(\"------------------------------------------------------------------\")"
   ]
  },
  {
   "cell_type": "code",
   "execution_count": 4,
   "id": "2db41bb9",
   "metadata": {},
   "outputs": [
    {
     "name": "stdout",
     "output_type": "stream",
     "text": [
      "tf.Tensor(\n",
      "[[1 2]\n",
      " [3 4]], shape=(2, 2), dtype=int32)\n",
      "------------------------------------------------------------------\n",
      "[[1 2]\n",
      " [3 4]]\n",
      "------------------------------------------------------------------\n",
      "<class 'tensorflow.python.framework.ops.EagerTensor'>\n"
     ]
    }
   ],
   "source": [
    "#转化为numpy数组\n",
    "# .numpy()函数  ps:有括号\n",
    "print(a)\n",
    "print(\"------------------------------------------------------------------\")\n",
    "print(a.numpy())\n",
    "print(\"------------------------------------------------------------------\")\n",
    "print(type(a))"
   ]
  },
  {
   "cell_type": "code",
   "execution_count": 5,
   "id": "6fdc6f5f",
   "metadata": {},
   "outputs": [
    {
     "data": {
      "text/plain": [
       "<tf.Tensor: shape=(), dtype=float32, numpy=1.0>"
      ]
     },
     "execution_count": 5,
     "metadata": {},
     "output_type": "execute_result"
    }
   ],
   "source": [
    "tf.constant(1.)#参数为数字"
   ]
  },
  {
   "cell_type": "code",
   "execution_count": 6,
   "id": "b3b81e2a",
   "metadata": {},
   "outputs": [
    {
     "data": {
      "text/plain": [
       "<tf.Tensor: shape=(), dtype=float64, numpy=1.0>"
      ]
     },
     "execution_count": 6,
     "metadata": {},
     "output_type": "execute_result"
    }
   ],
   "source": [
    "tf.constant(1,dtype=tf.float64)"
   ]
  },
  {
   "cell_type": "code",
   "execution_count": 7,
   "id": "96d9bf38",
   "metadata": {},
   "outputs": [
    {
     "name": "stdout",
     "output_type": "stream",
     "text": [
      "tf.Tensor(\n",
      "[[1 2]\n",
      " [3 4]], shape=(2, 2), dtype=int32)\n"
     ]
    }
   ],
   "source": [
    "a=tf.constant(np.array([[1,2],[3,4]]))#参数为numpy数组\n",
    "print(a)"
   ]
  },
  {
   "cell_type": "code",
   "execution_count": 8,
   "id": "e486d647",
   "metadata": {},
   "outputs": [
    {
     "name": "stdout",
     "output_type": "stream",
     "text": [
      "tf.Tensor(\n",
      "[[1. 2.]\n",
      " [3. 4.]], shape=(2, 2), dtype=float32)\n",
      "<dtype: 'float32'>\n"
     ]
    }
   ],
   "source": [
    "#tf.cast(x,dype=)改变张量中元素的数据类型\n",
    "#.dtype   ps:无括号\n",
    "b=tf.cast(a,dtype=tf.float32)\n",
    "print(b)\n",
    "print(b.dtype)"
   ]
  },
  {
   "cell_type": "code",
   "execution_count": 9,
   "id": "1514bfda",
   "metadata": {},
   "outputs": [
    {
     "data": {
      "text/plain": [
       "<tf.Tensor: shape=(), dtype=bool, numpy=True>"
      ]
     },
     "execution_count": 9,
     "metadata": {},
     "output_type": "execute_result"
    }
   ],
   "source": [
    "tf.constant(True) #参数为bool型"
   ]
  },
  {
   "cell_type": "code",
   "execution_count": 10,
   "id": "4e4de9ab",
   "metadata": {},
   "outputs": [
    {
     "data": {
      "text/plain": [
       "<tf.Tensor: shape=(), dtype=string, numpy=b'hello'>"
      ]
     },
     "execution_count": 10,
     "metadata": {},
     "output_type": "execute_result"
    }
   ],
   "source": [
    "tf.constant(\"hello\")#参数为字符串"
   ]
  },
  {
   "cell_type": "markdown",
   "id": "d45e99cf",
   "metadata": {},
   "source": [
    "tf.convert_to_tensor(( 数组/列表/数字/布尔型/字符串))函数"
   ]
  },
  {
   "cell_type": "code",
   "execution_count": 11,
   "id": "f6c0ab87",
   "metadata": {},
   "outputs": [
    {
     "name": "stdout",
     "output_type": "stream",
     "text": [
      "[[ 0  1  2  3]\n",
      " [ 4  5  6  7]\n",
      " [ 8  9 10 11]]\n",
      "<class 'numpy.ndarray'>\n",
      "tf.Tensor(\n",
      "[[ 0  1  2  3]\n",
      " [ 4  5  6  7]\n",
      " [ 8  9 10 11]], shape=(3, 4), dtype=int32)\n",
      "<class 'tensorflow.python.framework.ops.EagerTensor'>\n"
     ]
    }
   ],
   "source": [
    "na=np.arange(12).reshape(3,4)\n",
    "print(na)\n",
    "print(type(na))\n",
    "ta=tf.convert_to_tensor(na)\n",
    "print(ta)\n",
    "print(type(ta))"
   ]
  },
  {
   "cell_type": "code",
   "execution_count": 12,
   "id": "c2f7d3ac",
   "metadata": {},
   "outputs": [
    {
     "data": {
      "text/plain": [
       "True"
      ]
     },
     "execution_count": 12,
     "metadata": {},
     "output_type": "execute_result"
    }
   ],
   "source": [
    "#tf.is_tensor()函数\n",
    "#isinstance()函数\n",
    "tf.is_tensor(ta)"
   ]
  },
  {
   "cell_type": "code",
   "execution_count": 13,
   "id": "b1325cc9",
   "metadata": {},
   "outputs": [
    {
     "data": {
      "text/plain": [
       "True"
      ]
     },
     "execution_count": 13,
     "metadata": {},
     "output_type": "execute_result"
    }
   ],
   "source": [
    "isinstance(ta,tf.Tensor)"
   ]
  },
  {
   "cell_type": "code",
   "execution_count": 14,
   "id": "f786b58c",
   "metadata": {},
   "outputs": [
    {
     "data": {
      "text/plain": [
       "True"
      ]
     },
     "execution_count": 14,
     "metadata": {},
     "output_type": "execute_result"
    }
   ],
   "source": [
    "isinstance(na,np.ndarray)"
   ]
  },
  {
   "cell_type": "code",
   "execution_count": 15,
   "id": "906e9e85",
   "metadata": {},
   "outputs": [
    {
     "data": {
      "text/plain": [
       "<tf.Tensor: shape=(1, 6), dtype=float32, numpy=array([[1., 1., 1., 1., 1., 1.]], dtype=float32)>"
      ]
     },
     "execution_count": 15,
     "metadata": {},
     "output_type": "execute_result"
    }
   ],
   "source": [
    "#创建全0张量\n",
    "#tf.ones()\n",
    "#tf.zeros()\n",
    "tf.ones(shape=(1,6))"
   ]
  },
  {
   "cell_type": "code",
   "execution_count": 16,
   "id": "a782aa6b",
   "metadata": {},
   "outputs": [
    {
     "data": {
      "text/plain": [
       "<tf.Tensor: shape=(2, 3), dtype=float32, numpy=\n",
       "array([[1., 1., 1.],\n",
       "       [1., 1., 1.]], dtype=float32)>"
      ]
     },
     "execution_count": 16,
     "metadata": {},
     "output_type": "execute_result"
    }
   ],
   "source": [
    "tf.ones([2,3])"
   ]
  },
  {
   "cell_type": "code",
   "execution_count": 17,
   "id": "b7c36242",
   "metadata": {},
   "outputs": [
    {
     "data": {
      "text/plain": [
       "<tf.Tensor: shape=(2, 3), dtype=int32, numpy=\n",
       "array([[9, 9, 9],\n",
       "       [9, 9, 9]])>"
      ]
     },
     "execution_count": 17,
     "metadata": {},
     "output_type": "execute_result"
    }
   ],
   "source": [
    "#创建元素都相同的张量\n",
    "#tf.fill(dims,value)\n",
    "#tf.constant(value,shape=)\n",
    "tf.fill([2,3],9)"
   ]
  },
  {
   "cell_type": "code",
   "execution_count": 18,
   "id": "c6f73475",
   "metadata": {},
   "outputs": [
    {
     "data": {
      "text/plain": [
       "<tf.Tensor: shape=(2, 3), dtype=int32, numpy=\n",
       "array([[9, 9, 9],\n",
       "       [9, 9, 9]])>"
      ]
     },
     "execution_count": 18,
     "metadata": {},
     "output_type": "execute_result"
    }
   ],
   "source": [
    "tf.constant(9,shape=[2,3])"
   ]
  },
  {
   "cell_type": "code",
   "execution_count": 19,
   "id": "2a54f617",
   "metadata": {},
   "outputs": [
    {
     "data": {
      "text/plain": [
       "<tf.Tensor: shape=(2, 2), dtype=float32, numpy=\n",
       "array([[-1.0920311 , -1.4152894 ],\n",
       "       [ 0.06331311,  0.49964336]], dtype=float32)>"
      ]
     },
     "execution_count": 19,
     "metadata": {},
     "output_type": "execute_result"
    }
   ],
   "source": [
    "#创建随机数张量\n",
    "#tf.random.normal(shape,mean,stddev,dtype)\n",
    "tf.random.normal([2,2])#创建一个2*2张量，其元素服从正态分布"
   ]
  },
  {
   "cell_type": "code",
   "execution_count": 20,
   "id": "44cc41af",
   "metadata": {},
   "outputs": [
    {
     "data": {
      "text/plain": [
       "<tf.Tensor: shape=(3, 3, 3), dtype=float32, numpy=\n",
       "array([[[ 3.0067847 ,  0.25780573,  2.6877978 ],\n",
       "        [-0.5884671 ,  2.151046  ,  0.7626739 ],\n",
       "        [ 0.48217747, -1.0440388 ,  0.20259286]],\n",
       "\n",
       "       [[-2.8949318 , -2.712787  ,  2.9352145 ],\n",
       "        [ 2.402437  ,  3.0845077 ,  1.2208306 ],\n",
       "        [ 1.8624781 , -2.8252234 ,  0.28949013]],\n",
       "\n",
       "       [[ 0.8800881 , -2.7726507 , -1.7129673 ],\n",
       "        [ 2.668379  , -3.3187804 ,  0.66562843],\n",
       "        [-1.0769514 ,  1.0185257 , -2.212408  ]]], dtype=float32)>"
      ]
     },
     "execution_count": 20,
     "metadata": {},
     "output_type": "execute_result"
    }
   ],
   "source": [
    "tf.random.normal([3,3,3],mean=0.0,stddev=2.0)"
   ]
  },
  {
   "cell_type": "code",
   "execution_count": 21,
   "id": "63a482b9",
   "metadata": {},
   "outputs": [
    {
     "data": {
      "text/plain": [
       "<tf.Tensor: shape=(3, 3, 3), dtype=float32, numpy=\n",
       "array([[[-0.5529367 ,  0.8999614 ,  2.352978  ],\n",
       "        [ 1.2010862 ,  2.0524573 ,  2.026579  ],\n",
       "        [ 1.6000125 ,  1.6946471 ,  2.1563976 ]],\n",
       "\n",
       "       [[-2.0597136 , -0.5352263 , -1.1939663 ],\n",
       "        [-1.4466714 , -0.4758002 , -1.2500982 ],\n",
       "        [-2.059885  , -0.8822256 ,  0.9678097 ]],\n",
       "\n",
       "       [[-0.31617126, -0.3791081 , -1.0645643 ],\n",
       "        [ 0.18807675,  0.42843884,  2.270852  ],\n",
       "        [-0.6842056 ,  2.4956295 ,  1.0376512 ]]], dtype=float32)>"
      ]
     },
     "execution_count": 21,
     "metadata": {},
     "output_type": "execute_result"
    }
   ],
   "source": [
    "#创建随机数张量——截断正态分布\n",
    "#tf.random.truncated_normal(shape,mean,stddev,dtype)\n",
    "tf.random.truncated_normal([3,3,3],mean=0.0,stddev=2.0)"
   ]
  },
  {
   "cell_type": "code",
   "execution_count": 22,
   "id": "bda1e40c",
   "metadata": {},
   "outputs": [
    {
     "data": {
      "text/plain": [
       "<tf.Tensor: shape=(2, 2), dtype=float32, numpy=\n",
       "array([[ 1.2074401, -0.7452462],\n",
       "       [ 0.6908678, -0.7635988]], dtype=float32)>"
      ]
     },
     "execution_count": 22,
     "metadata": {},
     "output_type": "execute_result"
    }
   ],
   "source": [
    "#设置随机种子\n",
    "#tf.random.set_seed()\n",
    "tf.random.set_seed(8)\n",
    "tf.random.normal([2,2])"
   ]
  },
  {
   "cell_type": "code",
   "execution_count": 23,
   "id": "41f0405c",
   "metadata": {},
   "outputs": [
    {
     "data": {
      "text/plain": [
       "<tf.Tensor: shape=(3, 3), dtype=int32, numpy=\n",
       "array([[6, 8, 3],\n",
       "       [9, 5, 1],\n",
       "       [8, 6, 1]])>"
      ]
     },
     "execution_count": 23,
     "metadata": {},
     "output_type": "execute_result"
    }
   ],
   "source": [
    "#创建均匀分布张量\n",
    "#tf.random.uniform(shape,minval,maxval,dtype) \n",
    "tf.random.uniform([3,3],0,10,dtype=tf.int32)"
   ]
  },
  {
   "cell_type": "code",
   "execution_count": 24,
   "id": "eb232467",
   "metadata": {},
   "outputs": [
    {
     "data": {
      "text/plain": [
       "<tf.Tensor: shape=(3, 2), dtype=int32, numpy=\n",
       "array([[1, 2],\n",
       "       [5, 6],\n",
       "       [3, 4]])>"
      ]
     },
     "execution_count": 24,
     "metadata": {},
     "output_type": "execute_result"
    }
   ],
   "source": [
    "#随机打乱一维\n",
    "#tf.random.shuffle()\n",
    "x=tf.constant([[1,2],[3,4],[5,6]])\n",
    "tf.random.shuffle(x)"
   ]
  },
  {
   "cell_type": "code",
   "execution_count": 25,
   "id": "4dccf151",
   "metadata": {},
   "outputs": [
    {
     "data": {
      "text/plain": [
       "<tf.Tensor: shape=(10,), dtype=int32, numpy=array([0, 1, 2, 3, 4, 5, 6, 7, 8, 9])>"
      ]
     },
     "execution_count": 25,
     "metadata": {},
     "output_type": "execute_result"
    }
   ],
   "source": [
    "#创建序列\n",
    "#tf.range(start,limit,delta,dtypr)\n",
    "tf.range(10)"
   ]
  },
  {
   "cell_type": "code",
   "execution_count": 26,
   "id": "8860ba0c",
   "metadata": {},
   "outputs": [
    {
     "data": {
      "text/plain": [
       "<tf.Tensor: shape=(5,), dtype=int32, numpy=array([0, 2, 4, 6, 8])>"
      ]
     },
     "execution_count": 26,
     "metadata": {},
     "output_type": "execute_result"
    }
   ],
   "source": [
    "tf.range(10,delta=2)"
   ]
  },
  {
   "cell_type": "code",
   "execution_count": 27,
   "id": "5783735c",
   "metadata": {},
   "outputs": [
    {
     "data": {
      "text/plain": [
       "<tf.Tensor: shape=(5,), dtype=int32, numpy=array([1, 3, 5, 7, 9])>"
      ]
     },
     "execution_count": 27,
     "metadata": {},
     "output_type": "execute_result"
    }
   ],
   "source": [
    "tf.range(1,10,delta=2)"
   ]
  },
  {
   "cell_type": "markdown",
   "id": "2249ace5",
   "metadata": {},
   "source": [
    "# 维度变换"
   ]
  },
  {
   "cell_type": "code",
   "execution_count": 28,
   "id": "21f33e18",
   "metadata": {},
   "outputs": [
    {
     "data": {
      "text/plain": [
       "<tf.Tensor: shape=(2, 3, 4), dtype=int32, numpy=\n",
       "array([[[ 0,  1,  2,  3],\n",
       "        [ 4,  5,  6,  7],\n",
       "        [ 8,  9, 10, 11]],\n",
       "\n",
       "       [[12, 13, 14, 15],\n",
       "        [16, 17, 18, 19],\n",
       "        [20, 21, 22, 23]]])>"
      ]
     },
     "execution_count": 28,
     "metadata": {},
     "output_type": "execute_result"
    }
   ],
   "source": [
    "#改变张量的形状\n",
    "#tf.reshape(tensor,shape)\n",
    "a=tf.range(24)\n",
    "b=tf.reshape(a,[2,3,4])\n",
    "b"
   ]
  },
  {
   "cell_type": "code",
   "execution_count": 29,
   "id": "c9dcef14",
   "metadata": {},
   "outputs": [
    {
     "data": {
      "text/plain": [
       "<tf.Tensor: shape=(2, 3, 4), dtype=int32, numpy=\n",
       "array([[[ 0,  1,  2,  3],\n",
       "        [ 4,  5,  6,  7],\n",
       "        [ 8,  9, 10, 11]],\n",
       "\n",
       "       [[12, 13, 14, 15],\n",
       "        [16, 17, 18, 19],\n",
       "        [20, 21, 22, 23]]])>"
      ]
     },
     "execution_count": 29,
     "metadata": {},
     "output_type": "execute_result"
    }
   ],
   "source": [
    "tf.constant(np.arange(24).reshape(2,3,4))"
   ]
  },
  {
   "cell_type": "code",
   "execution_count": 30,
   "id": "9d599842",
   "metadata": {},
   "outputs": [
    {
     "name": "stdout",
     "output_type": "stream",
     "text": [
      "(2,)\n",
      "tf.Tensor([1 2], shape=(2,), dtype=int32)\n"
     ]
    }
   ],
   "source": [
    "#增加和删除维度 \n",
    "#增加维度和删除维度，只是改变了张量的视图，不会改变张量的存储\n",
    "#tf.expand_dims(input,axis)\n",
    "#tf.squeeze(input,axis)\n",
    "t=tf.constant([1,2])\n",
    "print(t.shape)  #ps:无括号\n",
    "print(t)"
   ]
  },
  {
   "cell_type": "code",
   "execution_count": 31,
   "id": "7e708bc6",
   "metadata": {},
   "outputs": [
    {
     "name": "stdout",
     "output_type": "stream",
     "text": [
      "(2, 1)\n",
      "tf.Tensor(\n",
      "[[1]\n",
      " [2]], shape=(2, 1), dtype=int32)\n"
     ]
    }
   ],
   "source": [
    "t1=tf.expand_dims(t,1)\n",
    "print(t1.shape)\n",
    "print(t1)"
   ]
  },
  {
   "cell_type": "code",
   "execution_count": 32,
   "id": "1e11be0b",
   "metadata": {},
   "outputs": [
    {
     "name": "stdout",
     "output_type": "stream",
     "text": [
      "(1, 2)\n",
      "tf.Tensor([[1 2]], shape=(1, 2), dtype=int32)\n"
     ]
    }
   ],
   "source": [
    "t2=tf.expand_dims(t,0)\n",
    "print(t2.shape)\n",
    "print(t2)"
   ]
  },
  {
   "cell_type": "code",
   "execution_count": 33,
   "id": "d2fdd7cb",
   "metadata": {},
   "outputs": [
    {
     "name": "stdout",
     "output_type": "stream",
     "text": [
      "(2, 1)\n",
      "tf.Tensor(\n",
      "[[1]\n",
      " [2]], shape=(2, 1), dtype=int32)\n"
     ]
    }
   ],
   "source": [
    "t3=tf.expand_dims(t,-1)\n",
    "print(t3.shape)\n",
    "print(t3)"
   ]
  },
  {
   "cell_type": "code",
   "execution_count": 34,
   "id": "aff7c451",
   "metadata": {},
   "outputs": [
    {
     "name": "stdout",
     "output_type": "stream",
     "text": [
      "tf.Tensor(\n",
      "[[1 2 3]\n",
      " [4 5 6]], shape=(2, 3), dtype=int32)\n",
      "-------------------------------\n",
      "tf.Tensor(\n",
      "[[1 4]\n",
      " [2 5]\n",
      " [3 6]], shape=(3, 2), dtype=int32)\n",
      "-------------------------------\n",
      "tf.Tensor(\n",
      "[[1 4]\n",
      " [2 5]\n",
      " [3 6]], shape=(3, 2), dtype=int32)\n"
     ]
    }
   ],
   "source": [
    "#交换维度\n",
    "#交换维度，不仅改变了张量的视图， 同时也改变了张量的存储顺序\n",
    "#tf.transpose(a,perm)\n",
    "x=tf.constant([[1,2,3],[4,5,6]])\n",
    "print(x)\n",
    "print(\"-------------------------------\")\n",
    "y=tf.transpose(x)\n",
    "print(y)\n",
    "print(\"-------------------------------\")\n",
    "z=tf.transpose(x,perm=[1,0])\n",
    "print(z)"
   ]
  },
  {
   "cell_type": "code",
   "execution_count": 35,
   "id": "c9c06ef9",
   "metadata": {},
   "outputs": [
    {
     "data": {
      "text/plain": [
       "<tf.Tensor: shape=(4, 3), dtype=int32, numpy=\n",
       "array([[ 1,  2,  3],\n",
       "       [ 4,  5,  6],\n",
       "       [ 7,  8,  9],\n",
       "       [10, 11, 12]])>"
      ]
     },
     "execution_count": 35,
     "metadata": {},
     "output_type": "execute_result"
    }
   ],
   "source": [
    "#拼接和分割\n",
    "#tf.concat(tensors,axis)\n",
    "#tf.split(value, num_or_size_splits, axis=0)\n",
    "t1=[[1,2,3],[4,5,6]]\n",
    "t2=[[7,8,9],[10,11,12]]\n",
    "tf.concat([t1,t2],0)"
   ]
  },
  {
   "cell_type": "code",
   "execution_count": 36,
   "id": "e10b0da2",
   "metadata": {},
   "outputs": [
    {
     "data": {
      "text/plain": [
       "<tf.Tensor: shape=(2, 6), dtype=int32, numpy=\n",
       "array([[ 1,  2,  3,  7,  8,  9],\n",
       "       [ 4,  5,  6, 10, 11, 12]])>"
      ]
     },
     "execution_count": 36,
     "metadata": {},
     "output_type": "execute_result"
    }
   ],
   "source": [
    "tf.concat([t1,t2],1)"
   ]
  },
  {
   "cell_type": "code",
   "execution_count": 37,
   "id": "65f46525",
   "metadata": {},
   "outputs": [
    {
     "data": {
      "text/plain": [
       "<tf.Tensor: shape=(4, 6), dtype=int32, numpy=\n",
       "array([[ 0,  1,  2,  3,  4,  5],\n",
       "       [ 6,  7,  8,  9, 10, 11],\n",
       "       [12, 13, 14, 15, 16, 17],\n",
       "       [18, 19, 20, 21, 22, 23]])>"
      ]
     },
     "execution_count": 37,
     "metadata": {},
     "output_type": "execute_result"
    }
   ],
   "source": [
    "x=tf.range(24)\n",
    "x=tf.reshape(x,[4,6])\n",
    "x"
   ]
  },
  {
   "cell_type": "code",
   "execution_count": 38,
   "id": "cc57c036",
   "metadata": {},
   "outputs": [
    {
     "data": {
      "text/plain": [
       "[<tf.Tensor: shape=(2, 6), dtype=int32, numpy=\n",
       " array([[ 0,  1,  2,  3,  4,  5],\n",
       "        [ 6,  7,  8,  9, 10, 11]])>,\n",
       " <tf.Tensor: shape=(2, 6), dtype=int32, numpy=\n",
       " array([[12, 13, 14, 15, 16, 17],\n",
       "        [18, 19, 20, 21, 22, 23]])>]"
      ]
     },
     "execution_count": 38,
     "metadata": {},
     "output_type": "execute_result"
    }
   ],
   "source": [
    "tf.split(x,2,0)"
   ]
  },
  {
   "cell_type": "code",
   "execution_count": 39,
   "id": "3eb856d5",
   "metadata": {},
   "outputs": [
    {
     "data": {
      "text/plain": [
       "[<tf.Tensor: shape=(1, 6), dtype=int32, numpy=array([[0, 1, 2, 3, 4, 5]])>,\n",
       " <tf.Tensor: shape=(2, 6), dtype=int32, numpy=\n",
       " array([[ 6,  7,  8,  9, 10, 11],\n",
       "        [12, 13, 14, 15, 16, 17]])>,\n",
       " <tf.Tensor: shape=(1, 6), dtype=int32, numpy=array([[18, 19, 20, 21, 22, 23]])>]"
      ]
     },
     "execution_count": 39,
     "metadata": {},
     "output_type": "execute_result"
    }
   ],
   "source": [
    "tf.split(x,[1,2,1],0)"
   ]
  },
  {
   "cell_type": "code",
   "execution_count": 40,
   "id": "13c9f9f7",
   "metadata": {},
   "outputs": [
    {
     "data": {
      "text/plain": [
       "[<tf.Tensor: shape=(4, 1), dtype=int32, numpy=\n",
       " array([[ 0],\n",
       "        [ 6],\n",
       "        [12],\n",
       "        [18]])>,\n",
       " <tf.Tensor: shape=(4, 2), dtype=int32, numpy=\n",
       " array([[ 1,  2],\n",
       "        [ 7,  8],\n",
       "        [13, 14],\n",
       "        [19, 20]])>,\n",
       " <tf.Tensor: shape=(4, 3), dtype=int32, numpy=\n",
       " array([[ 3,  4,  5],\n",
       "        [ 9, 10, 11],\n",
       "        [15, 16, 17],\n",
       "        [21, 22, 23]])>]"
      ]
     },
     "execution_count": 40,
     "metadata": {},
     "output_type": "execute_result"
    }
   ],
   "source": [
    "tf.split(x,[1,2,3],1)"
   ]
  },
  {
   "cell_type": "code",
   "execution_count": 41,
   "id": "ebf34cd6",
   "metadata": {},
   "outputs": [
    {
     "data": {
      "text/plain": [
       "<tf.Tensor: shape=(2, 3), dtype=int32, numpy=\n",
       "array([[1, 2, 3],\n",
       "       [4, 5, 6]])>"
      ]
     },
     "execution_count": 41,
     "metadata": {},
     "output_type": "execute_result"
    }
   ],
   "source": [
    "#堆叠和分解\n",
    "#tf.stack(values,axis)\n",
    "#tf.unstack(values,axis)\n",
    "#分解后得到的每个张量,和原来的张量相比，维数都少了一维\n",
    "x=tf.constant([1,2,3])\n",
    "y=tf.constant([4,5,6])\n",
    "tf.stack((x,y),0)"
   ]
  },
  {
   "cell_type": "code",
   "execution_count": 42,
   "id": "3fe5fce2",
   "metadata": {},
   "outputs": [
    {
     "data": {
      "text/plain": [
       "<tf.Tensor: shape=(3, 2), dtype=int32, numpy=\n",
       "array([[1, 4],\n",
       "       [2, 5],\n",
       "       [3, 6]])>"
      ]
     },
     "execution_count": 42,
     "metadata": {},
     "output_type": "execute_result"
    }
   ],
   "source": [
    "tf.stack((x,y),1)"
   ]
  },
  {
   "cell_type": "code",
   "execution_count": 43,
   "id": "9a13bb2f",
   "metadata": {},
   "outputs": [
    {
     "data": {
      "text/plain": [
       "<tf.Tensor: shape=(2, 3), dtype=int32, numpy=\n",
       "array([[1, 2, 3],\n",
       "       [4, 5, 6]])>"
      ]
     },
     "execution_count": 43,
     "metadata": {},
     "output_type": "execute_result"
    }
   ],
   "source": [
    "c=tf.constant([[1,2,3],[4,5,6]])\n",
    "c"
   ]
  },
  {
   "cell_type": "code",
   "execution_count": 44,
   "id": "8f5008ab",
   "metadata": {},
   "outputs": [
    {
     "data": {
      "text/plain": [
       "[<tf.Tensor: shape=(3,), dtype=int32, numpy=array([1, 2, 3])>,\n",
       " <tf.Tensor: shape=(3,), dtype=int32, numpy=array([4, 5, 6])>]"
      ]
     },
     "execution_count": 44,
     "metadata": {},
     "output_type": "execute_result"
    }
   ],
   "source": [
    "tf.unstack(c,axis=0)"
   ]
  },
  {
   "cell_type": "code",
   "execution_count": 45,
   "id": "7b61b3a1",
   "metadata": {},
   "outputs": [
    {
     "data": {
      "text/plain": [
       "[<tf.Tensor: shape=(2,), dtype=int32, numpy=array([1, 4])>,\n",
       " <tf.Tensor: shape=(2,), dtype=int32, numpy=array([2, 5])>,\n",
       " <tf.Tensor: shape=(2,), dtype=int32, numpy=array([3, 6])>]"
      ]
     },
     "execution_count": 45,
     "metadata": {},
     "output_type": "execute_result"
    }
   ],
   "source": [
    "tf.unstack(c,axis=1)"
   ]
  },
  {
   "cell_type": "markdown",
   "id": "2d3eef8f",
   "metadata": {},
   "source": [
    "# 部分采样"
   ]
  },
  {
   "cell_type": "code",
   "execution_count": null,
   "id": "027893b4",
   "metadata": {},
   "outputs": [],
   "source": [
    "#索引和切片\n",
    "#minist[0][1][2]取第1张图片中的第2行的第3列\n",
    "#一维数据切片a[::]\n",
    "#二维数据切片[:,:]  ps:用逗号隔开且:可以用::\n",
    "#三维数据切片[:,:,:]"
   ]
  },
  {
   "cell_type": "code",
   "execution_count": 50,
   "id": "1fcce44c",
   "metadata": {},
   "outputs": [
    {
     "data": {
      "text/plain": [
       "<tf.Tensor: shape=(3,), dtype=int32, numpy=array([0, 2, 3])>"
      ]
     },
     "execution_count": 50,
     "metadata": {},
     "output_type": "execute_result"
    }
   ],
   "source": [
    "#数据提取：根据索引，抽取出没有规律的、特定的数据\n",
    "#tf.gather(params,indices)\n",
    "a=tf.range(20)\n",
    "tf.gather(a,[0,2,3])"
   ]
  },
  {
   "cell_type": "code",
   "execution_count": 52,
   "id": "a4df718c",
   "metadata": {},
   "outputs": [
    {
     "data": {
      "text/plain": [
       "<tf.Tensor: shape=(4, 5), dtype=int32, numpy=\n",
       "array([[ 0,  1,  2,  3,  4],\n",
       "       [ 5,  6,  7,  8,  9],\n",
       "       [10, 11, 12, 13, 14],\n",
       "       [15, 16, 17, 18, 19]])>"
      ]
     },
     "execution_count": 52,
     "metadata": {},
     "output_type": "execute_result"
    }
   ],
   "source": [
    "b=tf.reshape(a,[4,5])\n",
    "b"
   ]
  },
  {
   "cell_type": "code",
   "execution_count": 55,
   "id": "809d489b",
   "metadata": {},
   "outputs": [
    {
     "data": {
      "text/plain": [
       "<tf.Tensor: shape=(3, 5), dtype=int32, numpy=\n",
       "array([[ 0,  1,  2,  3,  4],\n",
       "       [10, 11, 12, 13, 14],\n",
       "       [15, 16, 17, 18, 19]])>"
      ]
     },
     "execution_count": 55,
     "metadata": {},
     "output_type": "execute_result"
    }
   ],
   "source": [
    "tf.gather(b,axis=0,indices=[0,2,3])"
   ]
  },
  {
   "cell_type": "code",
   "execution_count": 56,
   "id": "02aef05a",
   "metadata": {},
   "outputs": [
    {
     "data": {
      "text/plain": [
       "<tf.Tensor: shape=(4, 3), dtype=int32, numpy=\n",
       "array([[ 0,  2,  3],\n",
       "       [ 5,  7,  8],\n",
       "       [10, 12, 13],\n",
       "       [15, 17, 18]])>"
      ]
     },
     "execution_count": 56,
     "metadata": {},
     "output_type": "execute_result"
    }
   ],
   "source": [
    "tf.gather(b,axis=1,indices=[0,2,3])"
   ]
  },
  {
   "cell_type": "code",
   "execution_count": 58,
   "id": "b92812bd",
   "metadata": {},
   "outputs": [
    {
     "data": {
      "text/plain": [
       "<tf.Tensor: shape=(3,), dtype=int32, numpy=array([ 1,  6, 13])>"
      ]
     },
     "execution_count": 58,
     "metadata": {},
     "output_type": "execute_result"
    }
   ],
   "source": [
    "#同时采样多个点\n",
    "#gather_nd()函数\n",
    "tf.gather_nd(b,[[0,1],[1,1],[2,3]])"
   ]
  },
  {
   "cell_type": "markdown",
   "id": "6872bd2e",
   "metadata": {},
   "source": [
    "# 张量运算"
   ]
  },
  {
   "cell_type": "code",
   "execution_count": 64,
   "id": "f7d03916",
   "metadata": {},
   "outputs": [
    {
     "data": {
      "text/plain": [
       "<tf.Tensor: shape=(2,), dtype=int32, numpy=array([3, 8])>"
      ]
     },
     "execution_count": 64,
     "metadata": {},
     "output_type": "execute_result"
    }
   ],
   "source": [
    "#基本运算\n",
    "#add(x,y)  subtract(x,y)  multiply(x,y)  divide(x,y)  math.mod(x,y) \n",
    "#pow square(x)  sqrt(x)  exp(x)  math.log(x) \n",
    "#其他运算\n",
    "#sign(x)  abs(x)  negative(x)  reciprocal(x) logical_not(x)  ceil(x)  floor(x)\n",
    "#rint(x)  round(x)  maximum(x)  minimun(x) \n",
    "#三角函数\n",
    "#运算符\n",
    "a=tf.constant([1,2])\n",
    "b=tf.constant([3,4])\n",
    "a*b"
   ]
  },
  {
   "cell_type": "code",
   "execution_count": 68,
   "id": "5413f059",
   "metadata": {},
   "outputs": [],
   "source": [
    "#广播机制"
   ]
  },
  {
   "cell_type": "code",
   "execution_count": 78,
   "id": "4095309d",
   "metadata": {},
   "outputs": [
    {
     "data": {
      "text/plain": [
       "<tf.Tensor: shape=(2, 2), dtype=int32, numpy=\n",
       "array([[10, 13],\n",
       "       [28, 40]])>"
      ]
     },
     "execution_count": 78,
     "metadata": {},
     "output_type": "execute_result"
    }
   ],
   "source": [
    "#向量乘法\n",
    "#@=tf.matmul()\n",
    "#a=tf.range(6)\n",
    "#a=tf.reshape(a,[2,3])\n",
    "a=tf.constant(np.arange(6),shape=(2,3))\n",
    "b=tf.range(6)\n",
    "b=tf.reshape(b,[3,2])\n",
    "a@b "
   ]
  },
  {
   "cell_type": "code",
   "execution_count": 82,
   "id": "246d37e6",
   "metadata": {},
   "outputs": [
    {
     "data": {
      "text/plain": [
       "<tf.Tensor: shape=(2, 3), dtype=int32, numpy=\n",
       "array([[1, 5, 3],\n",
       "       [4, 2, 6]])>"
      ]
     },
     "execution_count": 82,
     "metadata": {},
     "output_type": "execute_result"
    }
   ],
   "source": [
    "#数据统计\n",
    "#tf.reduce_sum(input_tensor,axis)\n",
    "#tf.reduce_mean(input_tensor,axis)\n",
    "#tf.reduce_max(input_tensor,axis)\n",
    "#tf.reduce_min(input_tensor,axis)\n",
    "#tf.argmax(), tf.argmin()求最值索引\n",
    "a=tf.constant([[1,5,3],[4,2,6]])\n",
    "a"
   ]
  },
  {
   "cell_type": "code",
   "execution_count": 86,
   "id": "f6b440e2",
   "metadata": {},
   "outputs": [
    {
     "data": {
      "text/plain": [
       "<tf.Tensor: shape=(3,), dtype=int64, numpy=array([1, 0, 1], dtype=int64)>"
      ]
     },
     "execution_count": 86,
     "metadata": {},
     "output_type": "execute_result"
    }
   ],
   "source": [
    "tf.argmax(a,0)"
   ]
  },
  {
   "cell_type": "markdown",
   "id": "a35c7628",
   "metadata": {},
   "source": [
    "# 使用GPU"
   ]
  },
  {
   "cell_type": "code",
   "execution_count": 9,
   "id": "ddbc88d2",
   "metadata": {},
   "outputs": [
    {
     "name": "stdout",
     "output_type": "stream",
     "text": [
      "[]\n",
      "[]\n"
     ]
    }
   ],
   "source": [
    "gpus=tf.config.experimental.list_physical_devices(device_type=\"GPU\")\n",
    "cpus=tf.config.experimental.list_physical_devices(device_type=\"GPU\")\n",
    "print(gpus)\n",
    "print(cpus)"
   ]
  },
  {
   "cell_type": "code",
   "execution_count": 10,
   "id": "93106bf5",
   "metadata": {},
   "outputs": [
    {
     "data": {
      "text/plain": [
       "False"
      ]
     },
     "execution_count": 10,
     "metadata": {},
     "output_type": "execute_result"
    }
   ],
   "source": [
    "tf.test.is_gpu_available()"
   ]
  },
  {
   "cell_type": "code",
   "execution_count": 8,
   "id": "1278e364",
   "metadata": {},
   "outputs": [
    {
     "data": {
      "text/plain": [
       "[]"
      ]
     },
     "execution_count": 8,
     "metadata": {},
     "output_type": "execute_result"
    }
   ],
   "source": [
    "tf.config.list_physical_devices('GPU')"
   ]
  },
  {
   "cell_type": "code",
   "execution_count": null,
   "id": "bd0b79ac",
   "metadata": {},
   "outputs": [],
   "source": []
  }
 ],
 "metadata": {
  "kernelspec": {
   "display_name": "Python 3 (ipykernel)",
   "language": "python",
   "name": "python3"
  },
  "language_info": {
   "codemirror_mode": {
    "name": "ipython",
    "version": 3
   },
   "file_extension": ".py",
   "mimetype": "text/x-python",
   "name": "python",
   "nbconvert_exporter": "python",
   "pygments_lexer": "ipython3",
   "version": "3.8.0"
  }
 },
 "nbformat": 4,
 "nbformat_minor": 5
}
